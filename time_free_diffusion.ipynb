{
 "cells": [
  {
   "cell_type": "code",
   "execution_count": 1,
   "metadata": {},
   "outputs": [],
   "source": [
    "import numpy as np\n",
    "import matplotlib.pyplot as plt\n",
    "import matplotlib.animation as animation\n",
    "from IPython.display import HTML"
   ]
  },
  {
   "cell_type": "code",
   "execution_count": 33,
   "metadata": {},
   "outputs": [],
   "source": [
    "def jacobi(grid, delta):\n",
    "    old_grid = np.zeros_like(grid)\n",
    "    coefficient = 1/4\n",
    "    i = 0\n",
    "    while np.max(np.abs(old_grid-grid)) > delta:\n",
    "        old_grid = grid.copy()\n",
    "        new_grid = grid.copy()\n",
    "        for i in range(1, len((grid)) - 1):\n",
    "            for j in range(1, len(grid[i,:]) -1):\n",
    "                new_grid[i, j] = grid[i,j] + coefficient * (grid[i+1,j] + grid[i-1,j] + grid[i,j + 1] + grid[i, j -1] - 4 * grid[i,j])\n",
    "            boundary = grid[i, 0] + coefficient * (grid[i+1,0] + grid[i-1,0] + grid[i,1] + grid[i,-2] - 4 * grid[i,0])\n",
    "            new_grid[i,0] = boundary\n",
    "            new_grid[i,-1] = boundary\n",
    "        grid = new_grid\n",
    "        i+=1\n",
    "\n",
    "    return grid, i"
   ]
  },
  {
   "cell_type": "code",
   "execution_count": 43,
   "metadata": {},
   "outputs": [],
   "source": [
    "def gauss_seidel(grid, delta):\n",
    "    old_grid = np.zeros_like(grid)\n",
    "    coefficient = 1/4\n",
    "    i = 0\n",
    "    while np.max(np.abs(old_grid-grid)) > delta:\n",
    "        old_grid = grid.copy()\n",
    "        for j in range(1, len((grid[0,:])) - 1):\n",
    "            for i in range(1, len(grid[:,j]) -1):\n",
    "                grid[i, j] = grid[i,j] + coefficient * (grid[i+1,j] + grid[i-1,j] + grid[i,j + 1] + grid[i, j -1] - 4 * grid[i,j])\n",
    "                boundary = grid[i, 0] + coefficient * (grid[i+1,0] + grid[i-1,0] + grid[i,1] + grid[i,-2] - 4 * grid[i,0])\n",
    "                grid[i,0] = boundary\n",
    "                grid[i,-1] = boundary\n",
    "        i+=1\n",
    "\n",
    "    return grid, i"
   ]
  },
  {
   "cell_type": "code",
   "execution_count": 44,
   "metadata": {},
   "outputs": [
    {
     "name": "stdout",
     "output_type": "stream",
     "text": [
      "49\n"
     ]
    },
    {
     "data": {
      "text/plain": [
       "<matplotlib.collections.QuadMesh at 0x11c05a540>"
      ]
     },
     "execution_count": 44,
     "metadata": {},
     "output_type": "execute_result"
    },
    {
     "data": {
      "image/png": "[encoded data removed]",
      "text/plain": [
       "<Figure size 640x480 with 1 Axes>"
      ]
     },
     "metadata": {},
     "output_type": "display_data"
    }
   ],
   "source": [
    "N = 50\n",
    "initial_grid = np.zeros((N,N))\n",
    "initial_grid[-1:] += 1\n",
    "final, k = gauss_seidel(initial_grid, 1e-4)\n",
    "print(k)\n",
    "plt.pcolormesh(final)"
   ]
  },
  {
   "cell_type": "code",
   "execution_count": null,
   "metadata": {},
   "outputs": [],
   "source": []
  }
 ],
 "metadata": {
  "kernelspec": {
   "display_name": "env",
   "language": "python",
   "name": "python3"
  },
  "language_info": {
   "codemirror_mode": {
    "name": "ipython",
    "version": 3
   },
   "file_extension": ".py",
   "mimetype": "text/x-python",
   "name": "python",
   "nbconvert_exporter": "python",
   "pygments_lexer": "ipython3",
   "version": "3.12.5"
  }
 },
 "nbformat": 4,
 "nbformat_minor": 2
}
